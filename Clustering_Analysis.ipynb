{
  "nbformat": 4,
  "nbformat_minor": 0,
  "metadata": {
    "colab": {
      "provenance": [],
      "authorship_tag": "ABX9TyOYIqJ+UAAMuPyAq7TBcHlc",
      "include_colab_link": true
    },
    "kernelspec": {
      "name": "python3",
      "display_name": "Python 3"
    },
    "language_info": {
      "name": "python"
    }
  },
  "cells": [
    {
      "cell_type": "markdown",
      "metadata": {
        "id": "view-in-github",
        "colab_type": "text"
      },
      "source": [
        "<a href=\"https://colab.research.google.com/github/dhaniishta/Clustering_Analysis/blob/main/Clustering_Analysis.ipynb\" target=\"_parent\"><img src=\"https://colab.research.google.com/assets/colab-badge.svg\" alt=\"Open In Colab\"/></a>"
      ]
    },
    {
      "cell_type": "code",
      "execution_count": 2,
      "metadata": {
        "id": "gun54a_uFkTP"
      },
      "outputs": [],
      "source": [
        "import numpy as np\n",
        "import pandas as pd\n",
        "from sklearn.datasets import load_iris\n",
        "from sklearn.preprocessing import StandardScaler\n",
        "from sklearn.decomposition import PCA\n",
        "from sklearn.cluster import KMeans, MeanShift, estimate_bandwidth\n",
        "from sklearn.metrics import silhouette_score, calinski_harabasz_score, davies_bouldin_score\n",
        "from scipy.cluster.hierarchy import linkage, fcluster, dendrogram\n",
        "import matplotlib.pyplot as plt"
      ]
    },
    {
      "cell_type": "code",
      "source": [
        "iris = load_iris()\n",
        "X = iris.data\n",
        "y = iris.target"
      ],
      "metadata": {
        "id": "1pJJ0L7JFv3V"
      },
      "execution_count": 4,
      "outputs": []
    },
    {
      "cell_type": "code",
      "source": [
        "scaler = StandardScaler()\n",
        "X_normalized = scaler.fit_transform(X)\n",
        "pca = PCA(n_components=2)\n",
        "X_pca = pca.fit_transform(X)\n",
        "X_tn_pca = PCA(n_components=2).fit_transform(X_normalized)"
      ],
      "metadata": {
        "id": "a9D8TWyFFyRW"
      },
      "execution_count": 8,
      "outputs": []
    },
    {
      "cell_type": "code",
      "source": [
        "def evaluate_clustering(X, labels):\n",
        "    silhouette = silhouette_score(X, labels)\n",
        "    calinski = calinski_harabasz_score(X, labels)\n",
        "    davies = davies_bouldin_score(X, labels)\n",
        "    return silhouette, calinski, davies"
      ],
      "metadata": {
        "id": "6-TbETHpF2A3"
      },
      "execution_count": 11,
      "outputs": []
    },
    {
      "cell_type": "code",
      "source": [
        "results = {\"Algorithm\": [], \"Preprocessing\": [], \"Clusters\": [], \"Silhouette\": [], \"Calinski\": [], \"Davies-Bouldin\": []}"
      ],
      "metadata": {
        "id": "5XL2ibb5F9kU"
      },
      "execution_count": 13,
      "outputs": []
    },
    {
      "cell_type": "code",
      "source": [
        "# K-Means Clustering\n",
        "for X_data, preprocess in zip([X, X_normalized, X_pca, X_tn_pca], [\"No Data Processing\", \"Normalized\", \"PCA\", \"T+N+PCA\"]):\n",
        "    for n_clusters in [3, 4, 5]:\n",
        "        kmeans = KMeans(n_clusters=n_clusters, random_state=42).fit(X_data)\n",
        "        silhouette, calinski, davies = evaluate_clustering(X_data, kmeans.labels_)\n",
        "        results[\"Algorithm\"].append(\"K-Means\")\n",
        "        results[\"Preprocessing\"].append(preprocess)\n",
        "        results[\"Clusters\"].append(n_clusters)\n",
        "        results[\"Silhouette\"].append(silhouette)\n",
        "        results[\"Calinski\"].append(calinski)\n",
        "        results[\"Davies-Bouldin\"].append(davies)"
      ],
      "metadata": {
        "id": "RVjmUARQGAhG"
      },
      "execution_count": 17,
      "outputs": []
    },
    {
      "cell_type": "code",
      "source": [
        "# Hierarchical Clustering\n",
        "for X_data, preprocess in zip([X, X_normalized, X_pca, X_tn_pca], [\"No Data Processing\", \"Normalized\", \"PCA\", \"T+N+PCA\"]):\n",
        "    linkage_matrix = linkage(X_data, method='ward')\n",
        "    for n_clusters in [3, 4, 5]:\n",
        "        labels = fcluster(linkage_matrix, t=n_clusters, criterion='maxclust')\n",
        "        silhouette, calinski, davies = evaluate_clustering(X_data, labels)\n",
        "        results[\"Algorithm\"].append(\"Hierarchical\")\n",
        "        results[\"Preprocessing\"].append(preprocess)\n",
        "        results[\"Clusters\"].append(n_clusters)\n",
        "        results[\"Silhouette\"].append(silhouette)\n",
        "        results[\"Calinski\"].append(calinski)\n",
        "        results[\"Davies-Bouldin\"].append(davies)"
      ],
      "metadata": {
        "id": "JW4tBXoEGE87"
      },
      "execution_count": 18,
      "outputs": []
    },
    {
      "cell_type": "code",
      "source": [
        "# Mean-Shift Clustering\n",
        "for X_data, preprocess in zip([X, X_normalized, X_pca, X_tn_pca], [\"No Data Processing\", \"Normalized\", \"PCA\", \"T+N+PCA\"]):\n",
        "    bandwidth = estimate_bandwidth(X_data, quantile=0.2)\n",
        "    meanshift = MeanShift(bandwidth=bandwidth).fit(X_data)\n",
        "    labels = meanshift.labels_\n",
        "    silhouette, calinski, davies = evaluate_clustering(X_data, labels)\n",
        "    results[\"Algorithm\"].append(\"Mean-Shift\")\n",
        "    results[\"Preprocessing\"].append(preprocess)\n",
        "    results[\"Clusters\"].append(len(np.unique(labels)))\n",
        "    results[\"Silhouette\"].append(silhouette)\n",
        "    results[\"Calinski\"].append(calinski)\n",
        "    results[\"Davies-Bouldin\"].append(davies)"
      ],
      "metadata": {
        "id": "WMpEf5CFGN4S"
      },
      "execution_count": 19,
      "outputs": []
    },
    {
      "cell_type": "code",
      "source": [
        "results_df = pd.DataFrame(results)"
      ],
      "metadata": {
        "id": "VOXmckYkGQEO"
      },
      "execution_count": 20,
      "outputs": []
    },
    {
      "cell_type": "code",
      "source": [
        "results_df.to_csv(\"clustering_results.csv\", index=False)"
      ],
      "metadata": {
        "id": "RAoY1F1sGSGE"
      },
      "execution_count": 21,
      "outputs": []
    },
    {
      "cell_type": "code",
      "source": [
        "plt.figure(figsize=(10, 7))\n",
        "plt.title(\"Dendrogram for Hierarchical Clustering\")\n",
        "dendrogram(linkage(X, method='ward'))\n",
        "plt.show()"
      ],
      "metadata": {
        "colab": {
          "base_uri": "https://localhost:8080/",
          "height": 621
        },
        "id": "JRWBcFPmGVZC",
        "outputId": "7875d658-723c-49e8-f70f-7d44eaaf6aff"
      },
      "execution_count": 22,
      "outputs": [
        {
          "output_type": "display_data",
          "data": {
            "text/plain": [
              "<Figure size 1000x700 with 1 Axes>"
            ],
            "image/png": "[encoded data removed]"
          },
          "metadata": {}
        }
      ]
    },
    {
      "cell_type": "code",
      "source": [
        "print(results_df)"
      ],
      "metadata": {
        "colab": {
          "base_uri": "https://localhost:8080/"
        },
        "id": "YO0UJljVGXj-",
        "outputId": "32883266-06ae-4899-ddb3-93c1734ecd45"
      },
      "execution_count": 23,
      "outputs": [
        {
          "output_type": "stream",
          "name": "stdout",
          "text": [
            "       Algorithm       Preprocessing  Clusters  Silhouette    Calinski  \\\n",
            "0        K-Means  No Data Processing         3    0.551192  561.593732   \n",
            "1        K-Means  No Data Processing         4    0.497643  529.529095   \n",
            "2        K-Means  No Data Processing         5    0.493080  495.243414   \n",
            "3        K-Means          Normalized         3    0.479881  157.360153   \n",
            "4        K-Means          Normalized         4    0.385045  206.680603   \n",
            "5        K-Means          Normalized         5    0.345033  202.635850   \n",
            "6        K-Means                 PCA         3    0.597676  693.708433   \n",
            "7        K-Means                 PCA         4    0.557741  719.123544   \n",
            "8        K-Means                 PCA         5    0.510041  642.060666   \n",
            "9        K-Means             T+N+PCA         3    0.522791  180.975460   \n",
            "10       K-Means             T+N+PCA         4    0.445187  263.884045   \n",
            "11       K-Means             T+N+PCA         5    0.411085  278.451395   \n",
            "12  Hierarchical  No Data Processing         3    0.554324  558.058041   \n",
            "13  Hierarchical  No Data Processing         4    0.488967  515.078906   \n",
            "14  Hierarchical  No Data Processing         5    0.484383  488.484904   \n",
            "15  Hierarchical          Normalized         3    0.446689  222.719164   \n",
            "16  Hierarchical          Normalized         4    0.400636  201.251454   \n",
            "17  Hierarchical          Normalized         5    0.330587  192.681283   \n",
            "18  Hierarchical                 PCA         3    0.598475  688.617548   \n",
            "19  Hierarchical                 PCA         4    0.540977  673.946264   \n",
            "20  Hierarchical                 PCA         5    0.548784  665.883112   \n",
            "21  Hierarchical             T+N+PCA         3    0.511060  286.328664   \n",
            "22  Hierarchical             T+N+PCA         4    0.448735  254.090094   \n",
            "23  Hierarchical             T+N+PCA         5    0.404169  254.996196   \n",
            "24       K-Means  No Data Processing         3    0.551192  561.593732   \n",
            "25       K-Means  No Data Processing         4    0.497643  529.529095   \n",
            "26       K-Means  No Data Processing         5    0.493080  495.243414   \n",
            "27       K-Means          Normalized         3    0.479881  157.360153   \n",
            "28       K-Means          Normalized         4    0.385045  206.680603   \n",
            "29       K-Means          Normalized         5    0.345033  202.635850   \n",
            "30       K-Means                 PCA         3    0.597676  693.708433   \n",
            "31       K-Means                 PCA         4    0.557741  719.123544   \n",
            "32       K-Means                 PCA         5    0.510041  642.060666   \n",
            "33       K-Means             T+N+PCA         3    0.522791  180.975460   \n",
            "34       K-Means             T+N+PCA         4    0.445187  263.884045   \n",
            "35       K-Means             T+N+PCA         5    0.411085  278.451395   \n",
            "36  Hierarchical  No Data Processing         3    0.554324  558.058041   \n",
            "37  Hierarchical  No Data Processing         4    0.488967  515.078906   \n",
            "38  Hierarchical  No Data Processing         5    0.484383  488.484904   \n",
            "39  Hierarchical          Normalized         3    0.446689  222.719164   \n",
            "40  Hierarchical          Normalized         4    0.400636  201.251454   \n",
            "41  Hierarchical          Normalized         5    0.330587  192.681283   \n",
            "42  Hierarchical                 PCA         3    0.598475  688.617548   \n",
            "43  Hierarchical                 PCA         4    0.540977  673.946264   \n",
            "44  Hierarchical                 PCA         5    0.548784  665.883112   \n",
            "45  Hierarchical             T+N+PCA         3    0.511060  286.328664   \n",
            "46  Hierarchical             T+N+PCA         4    0.448735  254.090094   \n",
            "47  Hierarchical             T+N+PCA         5    0.404169  254.996196   \n",
            "48    Mean-Shift  No Data Processing         2    0.685788  509.703427   \n",
            "49    Mean-Shift          Normalized         4    0.358474  133.420160   \n",
            "50    Mean-Shift                 PCA         3    0.562392  614.800564   \n",
            "51    Mean-Shift             T+N+PCA         4    0.403768  152.613788   \n",
            "\n",
            "    Davies-Bouldin  \n",
            "0         0.666039  \n",
            "1         0.754140  \n",
            "2         0.819384  \n",
            "3         0.789363  \n",
            "4         0.869779  \n",
            "5         0.943894  \n",
            "6         0.564816  \n",
            "7         0.615069  \n",
            "8         0.752500  \n",
            "9         0.739126  \n",
            "10        0.744669  \n",
            "11        0.780293  \n",
            "12        0.656256  \n",
            "13        0.795264  \n",
            "14        0.820417  \n",
            "15        0.803467  \n",
            "16        0.978821  \n",
            "17        0.974249  \n",
            "18        0.560496  \n",
            "19        0.654624  \n",
            "20        0.652573  \n",
            "21        0.705430  \n",
            "22        0.722612  \n",
            "23        0.791250  \n",
            "24        0.666039  \n",
            "25        0.754140  \n",
            "26        0.819384  \n",
            "27        0.789363  \n",
            "28        0.869779  \n",
            "29        0.943894  \n",
            "30        0.564816  \n",
            "31        0.615069  \n",
            "32        0.752500  \n",
            "33        0.739126  \n",
            "34        0.744669  \n",
            "35        0.780293  \n",
            "36        0.656256  \n",
            "37        0.795264  \n",
            "38        0.820417  \n",
            "39        0.803467  \n",
            "40        0.978821  \n",
            "41        0.974249  \n",
            "42        0.560496  \n",
            "43        0.654624  \n",
            "44        0.652573  \n",
            "45        0.705430  \n",
            "46        0.722612  \n",
            "47        0.791250  \n",
            "48        0.388552  \n",
            "49        0.775938  \n",
            "50        0.557915  \n",
            "51        0.596365  \n"
          ]
        }
      ]
    }
  ]
}